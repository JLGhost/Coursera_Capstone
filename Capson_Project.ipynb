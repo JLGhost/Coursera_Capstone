{
  "nbformat": 4,
  "nbformat_minor": 0,
  "metadata": {
    "colab": {
      "name": "Capson Project.ipynb",
      "provenance": [],
      "collapsed_sections": []
    },
    "kernelspec": {
      "name": "python3",
      "display_name": "Python 3"
    }
  },
  "cells": [
    {
      "cell_type": "markdown",
      "metadata": {
        "id": "21S90W9f-mYH"
      },
      "source": [
        "# **CAPSON PROJECT**\r\n",
        "This jupyter notebook will be used for the capstone project and storaged on github"
      ]
    },
    {
      "cell_type": "code",
      "metadata": {
        "id": "7O4lLqZ_-fwG"
      },
      "source": [
        "#Libraries\r\n",
        "import pandas as pd\r\n",
        "import numpy as np"
      ],
      "execution_count": 2,
      "outputs": []
    },
    {
      "cell_type": "code",
      "metadata": {
        "colab": {
          "base_uri": "https://localhost:8080/"
        },
        "id": "p-x1Y4TO-o6j",
        "outputId": "7827ab46-24e6-4fe7-f553-70c742f5dc83"
      },
      "source": [
        "#A print test\r\n",
        "print('Hello Capstone Project Course!')"
      ],
      "execution_count": 3,
      "outputs": [
        {
          "output_type": "stream",
          "text": [
            "Hello Capstone Project Course!\n"
          ],
          "name": "stdout"
        }
      ]
    }
  ]
}